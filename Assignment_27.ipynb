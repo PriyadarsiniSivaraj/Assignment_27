{
 "cells": [
  {
   "cell_type": "markdown",
   "metadata": {},
   "source": [
    "# ASSIGNMENT 27"
   ]
  },
  {
   "cell_type": "code",
   "execution_count": 1,
   "metadata": {},
   "outputs": [],
   "source": [
    "# Accessing the data\n",
    "import numpy as np\n",
    "import pandas as pd\n",
    "with open(\"nba_2013.csv\", 'r') as csvfile:\n",
    "    nba = pd.read_csv(csvfile)"
   ]
  },
  {
   "cell_type": "code",
   "execution_count": 2,
   "metadata": {},
   "outputs": [
    {
     "data": {
      "text/html": [
       "<div>\n",
       "<style scoped>\n",
       "    .dataframe tbody tr th:only-of-type {\n",
       "        vertical-align: middle;\n",
       "    }\n",
       "\n",
       "    .dataframe tbody tr th {\n",
       "        vertical-align: top;\n",
       "    }\n",
       "\n",
       "    .dataframe thead th {\n",
       "        text-align: right;\n",
       "    }\n",
       "</style>\n",
       "<table border=\"1\" class=\"dataframe\">\n",
       "  <thead>\n",
       "    <tr style=\"text-align: right;\">\n",
       "      <th></th>\n",
       "      <th>player</th>\n",
       "      <th>pos</th>\n",
       "      <th>age</th>\n",
       "      <th>bref_team_id</th>\n",
       "      <th>g</th>\n",
       "      <th>gs</th>\n",
       "      <th>mp</th>\n",
       "      <th>fg</th>\n",
       "      <th>fga</th>\n",
       "      <th>fg.</th>\n",
       "      <th>...</th>\n",
       "      <th>drb</th>\n",
       "      <th>trb</th>\n",
       "      <th>ast</th>\n",
       "      <th>stl</th>\n",
       "      <th>blk</th>\n",
       "      <th>tov</th>\n",
       "      <th>pf</th>\n",
       "      <th>pts</th>\n",
       "      <th>season</th>\n",
       "      <th>season_end</th>\n",
       "    </tr>\n",
       "  </thead>\n",
       "  <tbody>\n",
       "    <tr>\n",
       "      <th>0</th>\n",
       "      <td>Quincy Acy</td>\n",
       "      <td>SF</td>\n",
       "      <td>23</td>\n",
       "      <td>TOT</td>\n",
       "      <td>63</td>\n",
       "      <td>0</td>\n",
       "      <td>847</td>\n",
       "      <td>66</td>\n",
       "      <td>141</td>\n",
       "      <td>0.468</td>\n",
       "      <td>...</td>\n",
       "      <td>144</td>\n",
       "      <td>216</td>\n",
       "      <td>28</td>\n",
       "      <td>23</td>\n",
       "      <td>26</td>\n",
       "      <td>30</td>\n",
       "      <td>122</td>\n",
       "      <td>171</td>\n",
       "      <td>2013-2014</td>\n",
       "      <td>2013</td>\n",
       "    </tr>\n",
       "    <tr>\n",
       "      <th>1</th>\n",
       "      <td>Steven Adams</td>\n",
       "      <td>C</td>\n",
       "      <td>20</td>\n",
       "      <td>OKC</td>\n",
       "      <td>81</td>\n",
       "      <td>20</td>\n",
       "      <td>1197</td>\n",
       "      <td>93</td>\n",
       "      <td>185</td>\n",
       "      <td>0.503</td>\n",
       "      <td>...</td>\n",
       "      <td>190</td>\n",
       "      <td>332</td>\n",
       "      <td>43</td>\n",
       "      <td>40</td>\n",
       "      <td>57</td>\n",
       "      <td>71</td>\n",
       "      <td>203</td>\n",
       "      <td>265</td>\n",
       "      <td>2013-2014</td>\n",
       "      <td>2013</td>\n",
       "    </tr>\n",
       "    <tr>\n",
       "      <th>2</th>\n",
       "      <td>Jeff Adrien</td>\n",
       "      <td>PF</td>\n",
       "      <td>27</td>\n",
       "      <td>TOT</td>\n",
       "      <td>53</td>\n",
       "      <td>12</td>\n",
       "      <td>961</td>\n",
       "      <td>143</td>\n",
       "      <td>275</td>\n",
       "      <td>0.520</td>\n",
       "      <td>...</td>\n",
       "      <td>204</td>\n",
       "      <td>306</td>\n",
       "      <td>38</td>\n",
       "      <td>24</td>\n",
       "      <td>36</td>\n",
       "      <td>39</td>\n",
       "      <td>108</td>\n",
       "      <td>362</td>\n",
       "      <td>2013-2014</td>\n",
       "      <td>2013</td>\n",
       "    </tr>\n",
       "    <tr>\n",
       "      <th>3</th>\n",
       "      <td>Arron Afflalo</td>\n",
       "      <td>SG</td>\n",
       "      <td>28</td>\n",
       "      <td>ORL</td>\n",
       "      <td>73</td>\n",
       "      <td>73</td>\n",
       "      <td>2552</td>\n",
       "      <td>464</td>\n",
       "      <td>1011</td>\n",
       "      <td>0.459</td>\n",
       "      <td>...</td>\n",
       "      <td>230</td>\n",
       "      <td>262</td>\n",
       "      <td>248</td>\n",
       "      <td>35</td>\n",
       "      <td>3</td>\n",
       "      <td>146</td>\n",
       "      <td>136</td>\n",
       "      <td>1330</td>\n",
       "      <td>2013-2014</td>\n",
       "      <td>2013</td>\n",
       "    </tr>\n",
       "    <tr>\n",
       "      <th>4</th>\n",
       "      <td>Alexis Ajinca</td>\n",
       "      <td>C</td>\n",
       "      <td>25</td>\n",
       "      <td>NOP</td>\n",
       "      <td>56</td>\n",
       "      <td>30</td>\n",
       "      <td>951</td>\n",
       "      <td>136</td>\n",
       "      <td>249</td>\n",
       "      <td>0.546</td>\n",
       "      <td>...</td>\n",
       "      <td>183</td>\n",
       "      <td>277</td>\n",
       "      <td>40</td>\n",
       "      <td>23</td>\n",
       "      <td>46</td>\n",
       "      <td>63</td>\n",
       "      <td>187</td>\n",
       "      <td>328</td>\n",
       "      <td>2013-2014</td>\n",
       "      <td>2013</td>\n",
       "    </tr>\n",
       "  </tbody>\n",
       "</table>\n",
       "<p>5 rows × 31 columns</p>\n",
       "</div>"
      ],
      "text/plain": [
       "          player pos  age bref_team_id   g  gs    mp   fg   fga    fg.  \\\n",
       "0     Quincy Acy  SF   23          TOT  63   0   847   66   141  0.468   \n",
       "1   Steven Adams   C   20          OKC  81  20  1197   93   185  0.503   \n",
       "2    Jeff Adrien  PF   27          TOT  53  12   961  143   275  0.520   \n",
       "3  Arron Afflalo  SG   28          ORL  73  73  2552  464  1011  0.459   \n",
       "4  Alexis Ajinca   C   25          NOP  56  30   951  136   249  0.546   \n",
       "\n",
       "      ...      drb  trb  ast  stl  blk  tov   pf   pts     season  season_end  \n",
       "0     ...      144  216   28   23   26   30  122   171  2013-2014        2013  \n",
       "1     ...      190  332   43   40   57   71  203   265  2013-2014        2013  \n",
       "2     ...      204  306   38   24   36   39  108   362  2013-2014        2013  \n",
       "3     ...      230  262  248   35    3  146  136  1330  2013-2014        2013  \n",
       "4     ...      183  277   40   23   46   63  187   328  2013-2014        2013  \n",
       "\n",
       "[5 rows x 31 columns]"
      ]
     },
     "execution_count": 2,
     "metadata": {},
     "output_type": "execute_result"
    }
   ],
   "source": [
    "nba.head()"
   ]
  },
  {
   "cell_type": "code",
   "execution_count": 3,
   "metadata": {},
   "outputs": [
    {
     "data": {
      "text/plain": [
       "Index(['player', 'pos', 'age', 'bref_team_id', 'g', 'gs', 'mp', 'fg', 'fga',\n",
       "       'fg.', 'x3p', 'x3pa', 'x3p.', 'x2p', 'x2pa', 'x2p.', 'efg.', 'ft',\n",
       "       'fta', 'ft.', 'orb', 'drb', 'trb', 'ast', 'stl', 'blk', 'tov', 'pf',\n",
       "       'pts', 'season', 'season_end'],\n",
       "      dtype='object')"
      ]
     },
     "execution_count": 3,
     "metadata": {},
     "output_type": "execute_result"
    }
   ],
   "source": [
    "# Knowing all the column values\n",
    "nba.columns"
   ]
  },
  {
   "cell_type": "code",
   "execution_count": 4,
   "metadata": {},
   "outputs": [
    {
     "data": {
      "text/plain": [
       "array(['2013-2014'], dtype=object)"
      ]
     },
     "execution_count": 4,
     "metadata": {},
     "output_type": "execute_result"
    }
   ],
   "source": [
    "# Finding out the unique values of Season column \n",
    "np.unique(nba[['season']].values)"
   ]
  },
  {
   "cell_type": "code",
   "execution_count": 5,
   "metadata": {},
   "outputs": [
    {
     "data": {
      "text/plain": [
       "player           object\n",
       "pos              object\n",
       "age               int64\n",
       "bref_team_id     object\n",
       "g                 int64\n",
       "gs                int64\n",
       "mp                int64\n",
       "fg                int64\n",
       "fga               int64\n",
       "fg.             float64\n",
       "x3p               int64\n",
       "x3pa              int64\n",
       "x3p.            float64\n",
       "x2p               int64\n",
       "x2pa              int64\n",
       "x2p.            float64\n",
       "efg.            float64\n",
       "ft                int64\n",
       "fta               int64\n",
       "ft.             float64\n",
       "orb               int64\n",
       "drb               int64\n",
       "trb               int64\n",
       "ast               int64\n",
       "stl               int64\n",
       "blk               int64\n",
       "tov               int64\n",
       "pf                int64\n",
       "pts               int64\n",
       "season           object\n",
       "season_end        int64\n",
       "dtype: object"
      ]
     },
     "execution_count": 5,
     "metadata": {},
     "output_type": "execute_result"
    }
   ],
   "source": [
    "# Checking the data type of the columns\n",
    "nba.dtypes"
   ]
  },
  {
   "cell_type": "code",
   "execution_count": 6,
   "metadata": {},
   "outputs": [],
   "source": [
    "# Three columns have the dtype of object: 1.player, 2.pos, 3.bref_team_id\n",
    "# Converting the object values into categrical data\n",
    "\n",
    "from sklearn import preprocessing\n",
    "le = preprocessing.LabelEncoder()\n",
    "nba['player'] = le.fit_transform(nba.player.values)\n",
    "nba['pos'] = le.fit_transform(nba.pos.values)\n",
    "nba['bref_team_id'] = le.fit_transform(nba.bref_team_id.values)"
   ]
  },
  {
   "cell_type": "code",
   "execution_count": 7,
   "metadata": {},
   "outputs": [],
   "source": [
    "# Replacing the null values with 0\n",
    "nba.isnull().any()\n",
    "nba.fillna(0, inplace=True)"
   ]
  },
  {
   "cell_type": "code",
   "execution_count": 8,
   "metadata": {},
   "outputs": [],
   "source": [
    "# Since Season and Season_End do not play much role in the points scored, they are removed\n",
    "X = nba.drop(['pts','season','season_end'],axis=1)\n",
    "y = nba['pts']"
   ]
  },
  {
   "cell_type": "code",
   "execution_count": 9,
   "metadata": {},
   "outputs": [],
   "source": [
    "#K-nearest neighbour\n",
    "import numpy as np\n",
    "from sklearn.model_selection import train_test_split"
   ]
  },
  {
   "cell_type": "code",
   "execution_count": 10,
   "metadata": {},
   "outputs": [],
   "source": [
    "# Splitting data randomly into 70% training and 30% test\n",
    "X_train, X_test, y_train, y_test = train_test_split(X, y, test_size=0.3, random_state=707)"
   ]
  },
  {
   "cell_type": "code",
   "execution_count": 11,
   "metadata": {},
   "outputs": [],
   "source": [
    "# Before using the KNN Algorithm we need to select an appropriate value for K\n",
    "# creating odd list of K for KNN\n",
    "    \n",
    "myList = list(range(50))\n",
    "\n",
    "# subsetting just the odd ones\n",
    "neighbors = filter(lambda x: x % 2 != 0, myList)"
   ]
  },
  {
   "cell_type": "code",
   "execution_count": 12,
   "metadata": {},
   "outputs": [
    {
     "name": "stdout",
     "output_type": "stream",
     "text": [
      "Accuracy is  95.9785738496155 % for K-Value: 1\n",
      "Accuracy is  97.75073089725291 % for K-Value: 3\n",
      "Accuracy is  97.9180878093567 % for K-Value: 5\n",
      "Accuracy is  98.0017657308495 % for K-Value: 7\n",
      "Accuracy is  97.59667213600054 % for K-Value: 9\n",
      "Accuracy is  97.28353692388477 % for K-Value: 11\n",
      "Accuracy is  97.10446004009229 % for K-Value: 13\n",
      "Accuracy is  96.62018955230852 % for K-Value: 15\n",
      "Accuracy is  96.26098169533054 % for K-Value: 17\n",
      "Accuracy is  95.82375668721077 % for K-Value: 19\n",
      "Accuracy is  95.51397148281205 % for K-Value: 21\n",
      "Accuracy is  95.00543402029517 % for K-Value: 23\n",
      "Accuracy is  94.74068292123518 % for K-Value: 25\n",
      "Accuracy is  94.43121646749329 % for K-Value: 27\n",
      "Accuracy is  94.33964640173687 % for K-Value: 29\n",
      "Accuracy is  93.98474934666969 % for K-Value: 31\n",
      "Accuracy is  93.69510261703192 % for K-Value: 33\n",
      "Accuracy is  93.44219726125861 % for K-Value: 35\n",
      "Accuracy is  93.20678381450901 % for K-Value: 37\n",
      "Accuracy is  92.87016932637691 % for K-Value: 39\n",
      "Accuracy is  92.53919662291653 % for K-Value: 41\n",
      "Accuracy is  92.20841347144582 % for K-Value: 43\n",
      "Accuracy is  91.89193751650228 % for K-Value: 45\n",
      "Accuracy is  91.58198144705898 % for K-Value: 47\n",
      "Accuracy is  91.27926415816572 % for K-Value: 49\n"
     ]
    }
   ],
   "source": [
    "# Checking the various accuracy values\n",
    "from sklearn.neighbors import KNeighborsRegressor\n",
    "for k in neighbors:\n",
    "    knn = KNeighborsRegressor(n_neighbors=k)\n",
    "    knn.fit(X_train, y_train)\n",
    "    y_pred = knn.predict(X_test)\n",
    "    score = knn.score(X_test, y_test)\n",
    "    print(\"Accuracy is \", score*100,\"% for K-Value:\",k)\n"
   ]
  },
  {
   "cell_type": "code",
   "execution_count": 13,
   "metadata": {},
   "outputs": [
    {
     "data": {
      "text/plain": [
       "'\\nSince the highest accuracy is achieved for k=7, we take the value of k to be 7\\n'"
      ]
     },
     "execution_count": 13,
     "metadata": {},
     "output_type": "execute_result"
    }
   ],
   "source": [
    "'''\n",
    "Since the highest accuracy is achieved for k=7, we take the value of k to be 7\n",
    "'''"
   ]
  },
  {
   "cell_type": "code",
   "execution_count": 14,
   "metadata": {},
   "outputs": [
    {
     "data": {
      "text/plain": [
       "KNeighborsRegressor(algorithm='auto', leaf_size=30, metric='minkowski',\n",
       "          metric_params=None, n_jobs=1, n_neighbors=7, p=2,\n",
       "          weights='uniform')"
      ]
     },
     "execution_count": 14,
     "metadata": {},
     "output_type": "execute_result"
    }
   ],
   "source": [
    "from sklearn.neighbors import KNeighborsRegressor\n",
    "# instantiate learning model (k = 7)\n",
    "knn = KNeighborsRegressor(n_neighbors=7)\n",
    "# Training the model\n",
    "knn.fit(X_train, y_train)"
   ]
  },
  {
   "cell_type": "code",
   "execution_count": 15,
   "metadata": {},
   "outputs": [],
   "source": [
    "# predict the points scored\n",
    "y_pred = knn.predict(X_test)"
   ]
  },
  {
   "cell_type": "code",
   "execution_count": 16,
   "metadata": {},
   "outputs": [
    {
     "data": {
      "text/plain": [
       "0.980017657308495"
      ]
     },
     "execution_count": 16,
     "metadata": {},
     "output_type": "execute_result"
    }
   ],
   "source": [
    "# Evaluating the model using R-Squared Value\n",
    "from sklearn.metrics import r2_score\n",
    "\n",
    "r2_score(y_test, y_pred)"
   ]
  },
  {
   "cell_type": "code",
   "execution_count": 17,
   "metadata": {},
   "outputs": [
    {
     "data": {
      "text/plain": [
       "4942.040816326529"
      ]
     },
     "execution_count": 17,
     "metadata": {},
     "output_type": "execute_result"
    }
   ],
   "source": [
    "# Calculating the Mean Square Error\n",
    "from sklearn.metrics import mean_squared_error as mse\n",
    "mse(y_test,y_pred)"
   ]
  },
  {
   "cell_type": "code",
   "execution_count": 18,
   "metadata": {},
   "outputs": [
    {
     "name": "stdout",
     "output_type": "stream",
     "text": [
      "The accuracy of this model is: 98.0017657308495 %\n"
     ]
    }
   ],
   "source": [
    "print(\"The accuracy of this model is:\",knn.score(X_test, y_test)*100,\"%\")"
   ]
  }
 ],
 "metadata": {
  "kernelspec": {
   "display_name": "Python 3",
   "language": "python",
   "name": "python3"
  },
  "language_info": {
   "codemirror_mode": {
    "name": "ipython",
    "version": 3
   },
   "file_extension": ".py",
   "mimetype": "text/x-python",
   "name": "python",
   "nbconvert_exporter": "python",
   "pygments_lexer": "ipython3",
   "version": "3.6.5"
  }
 },
 "nbformat": 4,
 "nbformat_minor": 2
}
